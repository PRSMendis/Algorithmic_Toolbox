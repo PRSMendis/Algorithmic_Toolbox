{
 "cells": [
  {
   "cell_type": "code",
   "execution_count": 52,
   "metadata": {
    "pycharm": {
     "is_executing": false
    }
   },
   "outputs": [
    {
     "name": "stdout",
     "output_type": "stream",
     "text": [
      "Hello World\n",
      "0 Segment(start=1, end=3)\n",
      "[1, 2, 3]\n",
      "1 Segment(start=2, end=5)\n",
      "[2, 3, 4, 5]\n",
      "2 Segment(start=3, end=6)\n",
      "[3, 4, 5, 6]\n"
     ]
    },
    {
     "data": {
      "text/plain": [
       "array([], dtype=float64)"
      ]
     },
     "execution_count": 52,
     "metadata": {},
     "output_type": "execute_result"
    }
   ],
   "source": [
    "from collections import namedtuple\n",
    "import collections\n",
    "from sys import stdin\n",
    "import numpy as np\n",
    "\n",
    "\n",
    "Segment = namedtuple('Segment', 'start end')\n",
    "\n",
    "s = ([Segment(1, 3), Segment(2, 5), Segment(3, 6)])\n",
    "\n",
    "def compute_optimal_points(segments):\n",
    "    \n",
    "    print(\"Hello World\")\n",
    "    \n",
    "    m = np.array([])\n",
    "    \n",
    "    \n",
    "\n",
    "\n",
    "    #e\n",
    "    for i, segment in enumerate(s):\n",
    "        print(i, segment)\n",
    "        [num for num in range(segment.start, segment.end)]\n",
    "        print([num for num in range(segment.start, segment.end + 1)])\n",
    "        np.append(m,[num for num in range(segment.start, segment.end)])\n",
    "\n",
    "    return m\n",
    "\n",
    "compute_optimal_points(s)\n"
   ]
  },
  {
   "cell_type": "code",
   "execution_count": 53,
   "metadata": {
    "pycharm": {
     "is_executing": false,
     "name": "#%%\n"
    }
   },
   "outputs": [
    {
     "ename": "ValueError",
     "evalue": "all the input array dimensions except for the concatenation axis must match exactly",
     "output_type": "error",
     "traceback": [
      "\u001b[1;31m---------------------------------------------------------------------------\u001b[0m",
      "\u001b[1;31mValueError\u001b[0m                                Traceback (most recent call last)",
      "\u001b[1;32m<ipython-input-53-20034f2839aa>\u001b[0m in \u001b[0;36m<module>\u001b[1;34m\u001b[0m\n\u001b[1;32m----> 1\u001b[1;33m \u001b[0mm\u001b[0m \u001b[1;33m=\u001b[0m \u001b[0mnp\u001b[0m\u001b[1;33m.\u001b[0m\u001b[0mvstack\u001b[0m\u001b[1;33m(\u001b[0m \u001b[1;33m[\u001b[0m\u001b[0mm\u001b[0m\u001b[1;33m,\u001b[0m \u001b[1;33m[\u001b[0m\u001b[1;36m4\u001b[0m\u001b[1;33m,\u001b[0m\u001b[1;36m5\u001b[0m\u001b[1;33m,\u001b[0m\u001b[1;36m6\u001b[0m\u001b[1;33m]\u001b[0m\u001b[1;33m]\u001b[0m\u001b[1;33m)\u001b[0m\u001b[1;33m\u001b[0m\u001b[1;33m\u001b[0m\u001b[0m\n\u001b[0m\u001b[0;32m      2\u001b[0m \u001b[0mprint\u001b[0m\u001b[1;33m(\u001b[0m\u001b[0mm\u001b[0m\u001b[1;33m)\u001b[0m\u001b[1;33m\u001b[0m\u001b[1;33m\u001b[0m\u001b[0m\n",
      "\u001b[1;32mC:\\ProgramData\\Anaconda3\\lib\\site-packages\\numpy\\core\\shape_base.py\u001b[0m in \u001b[0;36mvstack\u001b[1;34m(tup)\u001b[0m\n\u001b[0;32m    281\u001b[0m     \"\"\"\n\u001b[0;32m    282\u001b[0m     \u001b[0m_warn_for_nonsequence\u001b[0m\u001b[1;33m(\u001b[0m\u001b[0mtup\u001b[0m\u001b[1;33m)\u001b[0m\u001b[1;33m\u001b[0m\u001b[1;33m\u001b[0m\u001b[0m\n\u001b[1;32m--> 283\u001b[1;33m     \u001b[1;32mreturn\u001b[0m \u001b[0m_nx\u001b[0m\u001b[1;33m.\u001b[0m\u001b[0mconcatenate\u001b[0m\u001b[1;33m(\u001b[0m\u001b[1;33m[\u001b[0m\u001b[0matleast_2d\u001b[0m\u001b[1;33m(\u001b[0m\u001b[0m_m\u001b[0m\u001b[1;33m)\u001b[0m \u001b[1;32mfor\u001b[0m \u001b[0m_m\u001b[0m \u001b[1;32min\u001b[0m \u001b[0mtup\u001b[0m\u001b[1;33m]\u001b[0m\u001b[1;33m,\u001b[0m \u001b[1;36m0\u001b[0m\u001b[1;33m)\u001b[0m\u001b[1;33m\u001b[0m\u001b[1;33m\u001b[0m\u001b[0m\n\u001b[0m\u001b[0;32m    284\u001b[0m \u001b[1;33m\u001b[0m\u001b[0m\n\u001b[0;32m    285\u001b[0m \u001b[1;33m\u001b[0m\u001b[0m\n",
      "\u001b[1;31mValueError\u001b[0m: all the input array dimensions except for the concatenation axis must match exactly"
     ]
    }
   ],
   "source": [
    "m = np.vstack( [m, [4,5,6]])\n",
    "print(m)\n"
   ]
  },
  {
   "cell_type": "code",
   "execution_count": 54,
   "metadata": {
    "pycharm": {
     "is_executing": false,
     "name": "#%%\n"
    }
   },
   "outputs": [
    {
     "name": "stdout",
     "output_type": "stream",
     "text": [
      "[]\n"
     ]
    }
   ],
   "source": [
    "A = np.empty((0,3), int)\n",
    "print(A)\n",
    "\n"
   ]
  },
  {
   "cell_type": "code",
   "execution_count": 55,
   "metadata": {
    "pycharm": {
     "is_executing": false,
     "name": "#%%\n"
    }
   },
   "outputs": [
    {
     "name": "stdout",
     "output_type": "stream",
     "text": [
      "[[1 2 3]\n",
      " [4 5 6]]\n"
     ]
    }
   ],
   "source": [
    "A = np.append(A, np.array([[1,2,3]]), axis=0)\n",
    "A = np.append(A, np.array([[4,5,6]]), axis=0)\n",
    "\n",
    "print(A)\n"
   ]
  },
  {
   "cell_type": "code",
   "execution_count": 56,
   "metadata": {
    "pycharm": {
     "is_executing": false,
     "name": "#%%\n"
    }
   },
   "outputs": [
    {
     "ename": "ValueError",
     "evalue": "object too deep for desired array",
     "output_type": "error",
     "traceback": [
      "\u001b[1;31m---------------------------------------------------------------------------\u001b[0m",
      "\u001b[1;31mValueError\u001b[0m                                Traceback (most recent call last)",
      "\u001b[1;32m<ipython-input-56-454baf117e2b>\u001b[0m in \u001b[0;36m<module>\u001b[1;34m\u001b[0m\n\u001b[1;32m----> 1\u001b[1;33m \u001b[0mcounts\u001b[0m \u001b[1;33m=\u001b[0m \u001b[0mnp\u001b[0m\u001b[1;33m.\u001b[0m\u001b[0mbincount\u001b[0m\u001b[1;33m(\u001b[0m\u001b[0mA\u001b[0m\u001b[1;33m)\u001b[0m\u001b[1;33m\u001b[0m\u001b[1;33m\u001b[0m\u001b[0m\n\u001b[0m\u001b[0;32m      2\u001b[0m \u001b[0mprint\u001b[0m\u001b[1;33m(\u001b[0m\u001b[0mnp\u001b[0m\u001b[1;33m.\u001b[0m\u001b[0margmax\u001b[0m\u001b[1;33m(\u001b[0m\u001b[0mcounts\u001b[0m\u001b[1;33m)\u001b[0m\u001b[1;33m)\u001b[0m\u001b[1;33m\u001b[0m\u001b[1;33m\u001b[0m\u001b[0m\n",
      "\u001b[1;31mValueError\u001b[0m: object too deep for desired array"
     ]
    }
   ],
   "source": [
    "counts = np.bincount(A)\n",
    "print(np.argmax(counts))\n"
   ]
  },
  {
   "cell_type": "code",
   "execution_count": 57,
   "metadata": {
    "pycharm": {
     "is_executing": false,
     "name": "#%%\n"
    }
   },
   "outputs": [
    {
     "data": {
      "text/plain": [
       "1"
      ]
     },
     "execution_count": 57,
     "metadata": {},
     "output_type": "execute_result"
    }
   ],
   "source": [
    "def mostCommon(lst): \n",
    "    flatList = [el for sublist in lst for el in sublist] \n",
    "    return max(flatList, key = flatList.count) \n",
    "\n",
    "mostCommon(A)"
   ]
  },
  {
   "cell_type": "code",
   "execution_count": 73,
   "metadata": {
    "pycharm": {
     "is_executing": false,
     "name": "#%%\n"
    }
   },
   "outputs": [
    {
     "name": "stdout",
     "output_type": "stream",
     "text": [
      "Hello World\n",
      "[1, 2, 3]\n",
      "[2, 3, 4, 5]\n"
     ]
    },
    {
     "ename": "ValueError",
     "evalue": "all the input array dimensions except for the concatenation axis must match exactly",
     "output_type": "error",
     "traceback": [
      "\u001b[1;31m---------------------------------------------------------------------------\u001b[0m",
      "\u001b[1;31mValueError\u001b[0m                                Traceback (most recent call last)",
      "\u001b[1;32m<ipython-input-73-a94be016f1b8>\u001b[0m in \u001b[0;36m<module>\u001b[1;34m\u001b[0m\n\u001b[0;32m     28\u001b[0m     \u001b[1;32mreturn\u001b[0m \u001b[0mM\u001b[0m\u001b[1;33m\u001b[0m\u001b[1;33m\u001b[0m\u001b[0m\n\u001b[0;32m     29\u001b[0m \u001b[1;33m\u001b[0m\u001b[0m\n\u001b[1;32m---> 30\u001b[1;33m \u001b[0mcompute_optimal_points\u001b[0m\u001b[1;33m(\u001b[0m\u001b[0ms\u001b[0m\u001b[1;33m)\u001b[0m\u001b[1;33m\u001b[0m\u001b[1;33m\u001b[0m\u001b[0m\n\u001b[0m\u001b[0;32m     31\u001b[0m \u001b[1;33m\u001b[0m\u001b[0m\n",
      "\u001b[1;32m<ipython-input-73-a94be016f1b8>\u001b[0m in \u001b[0;36mcompute_optimal_points\u001b[1;34m(segments)\u001b[0m\n\u001b[0;32m     23\u001b[0m \u001b[1;31m#         A = np.append(A, np.array([[4,5,6]]), axis=0)\u001b[0m\u001b[1;33m\u001b[0m\u001b[1;33m\u001b[0m\u001b[1;33m\u001b[0m\u001b[0m\n\u001b[0;32m     24\u001b[0m         \u001b[0mprint\u001b[0m\u001b[1;33m(\u001b[0m\u001b[0mA\u001b[0m\u001b[1;33m)\u001b[0m\u001b[1;33m\u001b[0m\u001b[1;33m\u001b[0m\u001b[0m\n\u001b[1;32m---> 25\u001b[1;33m         \u001b[0mM\u001b[0m \u001b[1;33m=\u001b[0m \u001b[0mnp\u001b[0m\u001b[1;33m.\u001b[0m\u001b[0mappend\u001b[0m\u001b[1;33m(\u001b[0m\u001b[0mM\u001b[0m\u001b[1;33m,\u001b[0m \u001b[0mnp\u001b[0m\u001b[1;33m.\u001b[0m\u001b[0marray\u001b[0m\u001b[1;33m(\u001b[0m\u001b[1;33m[\u001b[0m\u001b[0mA\u001b[0m\u001b[1;33m]\u001b[0m\u001b[1;33m)\u001b[0m\u001b[1;33m,\u001b[0m \u001b[0maxis\u001b[0m\u001b[1;33m=\u001b[0m\u001b[1;36m0\u001b[0m\u001b[1;33m)\u001b[0m\u001b[1;33m\u001b[0m\u001b[1;33m\u001b[0m\u001b[0m\n\u001b[0m\u001b[0;32m     26\u001b[0m \u001b[1;31m#         print(M)\u001b[0m\u001b[1;33m\u001b[0m\u001b[1;33m\u001b[0m\u001b[1;33m\u001b[0m\u001b[0m\n\u001b[0;32m     27\u001b[0m \u001b[1;33m\u001b[0m\u001b[0m\n",
      "\u001b[1;32mC:\\ProgramData\\Anaconda3\\lib\\site-packages\\numpy\\lib\\function_base.py\u001b[0m in \u001b[0;36mappend\u001b[1;34m(arr, values, axis)\u001b[0m\n\u001b[0;32m   4692\u001b[0m         \u001b[0mvalues\u001b[0m \u001b[1;33m=\u001b[0m \u001b[0mravel\u001b[0m\u001b[1;33m(\u001b[0m\u001b[0mvalues\u001b[0m\u001b[1;33m)\u001b[0m\u001b[1;33m\u001b[0m\u001b[1;33m\u001b[0m\u001b[0m\n\u001b[0;32m   4693\u001b[0m         \u001b[0maxis\u001b[0m \u001b[1;33m=\u001b[0m \u001b[0marr\u001b[0m\u001b[1;33m.\u001b[0m\u001b[0mndim\u001b[0m\u001b[1;33m-\u001b[0m\u001b[1;36m1\u001b[0m\u001b[1;33m\u001b[0m\u001b[1;33m\u001b[0m\u001b[0m\n\u001b[1;32m-> 4694\u001b[1;33m     \u001b[1;32mreturn\u001b[0m \u001b[0mconcatenate\u001b[0m\u001b[1;33m(\u001b[0m\u001b[1;33m(\u001b[0m\u001b[0marr\u001b[0m\u001b[1;33m,\u001b[0m \u001b[0mvalues\u001b[0m\u001b[1;33m)\u001b[0m\u001b[1;33m,\u001b[0m \u001b[0maxis\u001b[0m\u001b[1;33m=\u001b[0m\u001b[0maxis\u001b[0m\u001b[1;33m)\u001b[0m\u001b[1;33m\u001b[0m\u001b[1;33m\u001b[0m\u001b[0m\n\u001b[0m\u001b[0;32m   4695\u001b[0m \u001b[1;33m\u001b[0m\u001b[0m\n\u001b[0;32m   4696\u001b[0m \u001b[1;33m\u001b[0m\u001b[0m\n",
      "\u001b[1;31mValueError\u001b[0m: all the input array dimensions except for the concatenation axis must match exactly"
     ]
    }
   ],
   "source": [
    "from collections import namedtuple\n",
    "import collections\n",
    "from sys import stdin\n",
    "import numpy as np\n",
    "\n",
    "\n",
    "Segment = namedtuple('Segment', 'start end')\n",
    "\n",
    "s = ([Segment(1, 3), Segment(2, 5), Segment(3, 6)])\n",
    "\n",
    "def compute_optimal_points(segments):\n",
    "    \n",
    "    print(\"Hello World\")\n",
    "    \n",
    "    M = np.empty((0,3), int)\n",
    "    \n",
    "    \n",
    "\n",
    "\n",
    "    #e\n",
    "    for i, segment in enumerate(s):\n",
    "        A = [num for num in range(segment.start, segment.end+1)]\n",
    "#         A = np.append(A, np.array([[4,5,6]]), axis=0)\n",
    "        print(A)\n",
    "        M = np.append(M, np.array([A]), axis=0)\n",
    "#         print(M)\n",
    "\n",
    "    return M\n",
    "\n",
    "compute_optimal_points(s)\n",
    "\n"
   ]
  },
  {
   "cell_type": "code",
   "execution_count": 80,
   "metadata": {
    "pycharm": {
     "is_executing": false,
     "name": "#%%\n"
    }
   },
   "outputs": [
    {
     "name": "stdout",
     "output_type": "stream",
     "text": [
      "Hello World\n",
      "3\n",
      "[]\n"
     ]
    },
    {
     "data": {
      "text/plain": [
       "[[1, 2, 3], [2, 3, 4, 5], [3, 4, 5, 6]]"
      ]
     },
     "execution_count": 80,
     "metadata": {},
     "output_type": "execute_result"
    }
   ],
   "source": [
    "from collections import namedtuple\n",
    "import collections\n",
    "from sys import stdin\n",
    "import numpy as np\n",
    "\n",
    "\n",
    "Segment = namedtuple('Segment', 'start end')\n",
    "\n",
    "s = ([Segment(1, 3), Segment(2, 5), Segment(3, 6)])\n",
    "\n",
    "def compute_optimal_points(segments):\n",
    "    \n",
    "    print(\"Hello World\")\n",
    "    \n",
    "    print(len(segments))\n",
    "#     M = [[]* len(segments)]\n",
    "    M = [[] for _ in range(0,len(segments))]\n",
    "    print(M[0])\n",
    "    \n",
    "    \n",
    "\n",
    "\n",
    "    #e\n",
    "    for i, segment in enumerate(s):\n",
    "        M[i] = [num for num in range(segment.start, segment.end+1)]\n",
    "\n",
    "    return M\n",
    "\n",
    "compute_optimal_points(s)\n",
    "\n"
   ]
  },
  {
   "cell_type": "code",
   "execution_count": 81,
   "metadata": {
    "pycharm": {
     "is_executing": false,
     "name": "#%%\n"
    }
   },
   "outputs": [
    {
     "name": "stdout",
     "output_type": "stream",
     "text": [
      "Hello World\n",
      "3\n",
      "[]\n"
     ]
    },
    {
     "data": {
      "text/plain": [
       "[[1, 2, 3], [2, 3, 4, 5], [3, 4, 5, 6]]"
      ]
     },
     "execution_count": 81,
     "metadata": {},
     "output_type": "execute_result"
    }
   ],
   "source": [
    "from collections import namedtuple\n",
    "import collections\n",
    "from sys import stdin\n",
    "import numpy as np\n",
    "\n",
    "\n",
    "Segment = namedtuple('Segment', 'start end')\n",
    "\n",
    "s = ([Segment(1, 3), Segment(2, 5), Segment(3, 6)])\n",
    "\n",
    "def compute_optimal_points(segments):\n",
    "    \n",
    "    print(\"Hello World\")\n",
    "    \n",
    "    print(len(segments))\n",
    "#     M = [[]* len(segments)]\n",
    "    M = [[] for _ in range(0,len(segments))]\n",
    "    print(M[0])\n",
    "    \n",
    "    \n",
    "\n",
    "\n",
    "    #e\n",
    "    for i, segment in enumerate(s):\n",
    "        M[i] = [num for num in range(segment.start, segment.end+1)]\n",
    "\n",
    "    return M\n",
    "\n",
    "compute_optimal_points(s)\n",
    "\n"
   ]
  },
  {
   "cell_type": "markdown",
   "metadata": {
    "pycharm": {
     "name": "#%%\n"
    }
   },
   "source": [
    "Find common elements in 2D list\n",
    "https://www.geeksforgeeks.org/python-find-common-elements-in-list-of-lists/\n",
    "\n",
    "Find most common element in each column - https://www.geeksforgeeks.org/python-find-most-common-element-in-each-column-in-a-2d-list/\n",
    "\n",
    "Counter, most common method - \n",
    "https://kite.com/python/docs/collections.Counter.most_common\n",
    "\n"
   ]
  },
  {
   "cell_type": "code",
   "execution_count": 82,
   "metadata": {},
   "outputs": [
    {
     "name": "stdout",
     "output_type": "stream",
     "text": [
      "[2, 1, 3]\n"
     ]
    }
   ],
   "source": [
    "from collections import Counter \n",
    "  \n",
    "def mostCommon(lst): \n",
    "          \n",
    "    return [Counter(col).most_common(1)[0][0] for col in zip(*lst)] \n",
    "          \n",
    "# Driver code \n",
    "lst = [[1, 1, 3], \n",
    "       [2, 3, 3], \n",
    "       [3, 2, 2], \n",
    "       [2, 1, 3]] \n",
    "print(mostCommon(lst)) "
   ]
  },
  {
   "cell_type": "code",
   "execution_count": 85,
   "metadata": {},
   "outputs": [
    {
     "name": "stdout",
     "output_type": "stream",
     "text": [
      "[('a', 1), ('b', 2)]\n"
     ]
    }
   ],
   "source": [
    "import collections\n",
    "c = collections.Counter(a=1, b=2, c=3)\n",
    "n = 2\n",
    "\n",
    "print(c.most_common()[:-n-1:-1])"
   ]
  },
  {
   "cell_type": "code",
   "execution_count": 87,
   "metadata": {},
   "outputs": [
    {
     "name": "stdout",
     "output_type": "stream",
     "text": [
      "Counter({'c': 3, 'b': 2, 'a': 1})\n"
     ]
    }
   ],
   "source": [
    "# print(A.most_common())\n",
    "print(c)"
   ]
  },
  {
   "cell_type": "code",
   "execution_count": 88,
   "metadata": {},
   "outputs": [
    {
     "name": "stdout",
     "output_type": "stream",
     "text": [
      "[('a', 2), ('b', 1)]\n"
     ]
    }
   ],
   "source": [
    "a_list = [\"a\", \"a\", \"b\", \"c\"]\n",
    "a_counter = collections.Counter(a_list)\n",
    "most_common = a_counter.most_common(2)\n",
    "print(most_common)"
   ]
  },
  {
   "cell_type": "code",
   "execution_count": 90,
   "metadata": {},
   "outputs": [],
   "source": [
    "# A_counter = collections.Counter(A)\n",
    "# most_common = counter.most_common(2)\n",
    "# print(mos_common)"
   ]
  },
  {
   "cell_type": "code",
   "execution_count": 91,
   "metadata": {},
   "outputs": [],
   "source": [
    "# import itertools\n",
    "# import operator\n",
    "\n",
    "# def most_common(L):\n",
    "#   # get an iterable of (item, iterable) pairs\n",
    "#   SL = sorted((x, i) for i, x in enumerate(L))\n",
    "#   # print 'SL:', SL\n",
    "#   groups = itertools.groupby(SL, key=operator.itemgetter(0))\n",
    "#   # auxiliary function to get \"quality\" for an item\n",
    "#   def _auxfun(g):\n",
    "#     item, iterable = g\n",
    "#     count = 0\n",
    "#     min_index = len(L)\n",
    "#     for _, where in iterable:\n",
    "#       count += 1\n",
    "#       min_index = min(min_index, where)\n",
    "#     # print 'item %r, count %r, minind %r' % (item, count, min_index)\n",
    "#     return count, -min_index\n",
    "#   # pick the highest-count/earliest item\n",
    "#   return max(groups, key=_auxfun)[0]"
   ]
  },
  {
   "cell_type": "code",
   "execution_count": 109,
   "metadata": {},
   "outputs": [],
   "source": [
    "d = {}\n"
   ]
  },
  {
   "cell_type": "code",
   "execution_count": 110,
   "metadata": {},
   "outputs": [],
   "source": [
    "a = [1, 2, 3] \n",
    "b = [2, 3, 4, 5]\n",
    "c = [3, 4, 5, 6]\n",
    "\n"
   ]
  },
  {
   "cell_type": "code",
   "execution_count": 111,
   "metadata": {},
   "outputs": [
    {
     "name": "stdout",
     "output_type": "stream",
     "text": [
      "[]\n",
      "[[1, 2, 3], [2, 3, 4, 5], [3, 4, 5, 6]]\n"
     ]
    }
   ],
   "source": [
    "Segment = namedtuple('Segment', 'start end')\n",
    "\n",
    "segments = ([Segment(1, 3), Segment(2, 5), Segment(3, 6)])\n",
    "\n",
    "M = [[] for _ in range(0,len(segments))]\n",
    "print(M[0])\n",
    "    \n",
    "for i, segment in enumerate(s):\n",
    "    M[i] = [num for num in range(segment.start, segment.end+1)]\n",
    "print(M)"
   ]
  },
  {
   "cell_type": "code",
   "execution_count": 112,
   "metadata": {},
   "outputs": [
    {
     "name": "stdout",
     "output_type": "stream",
     "text": [
      "0 [1, 2, 3]\n",
      "0 1\n",
      "1 2\n",
      "2 3\n",
      "1 [2, 3, 4, 5]\n",
      "0 2\n",
      "1 3\n",
      "2 4\n",
      "3 5\n",
      "2 [3, 4, 5, 6]\n",
      "0 3\n",
      "1 4\n",
      "2 5\n",
      "3 6\n",
      "{1: 1, 2: 2, 3: 3, 4: 2, 5: 2, 6: 1}\n"
     ]
    }
   ],
   "source": [
    "for i,l in enumerate(M):\n",
    "    print(i, l)\n",
    "    for j, num in enumerate(l):\n",
    "        print(j, num)\n",
    "        if num not in d:\n",
    "            d[num] = 1\n",
    "        else:\n",
    "            d[num] += 1\n",
    "print(d)"
   ]
  },
  {
   "cell_type": "code",
   "execution_count": 118,
   "metadata": {},
   "outputs": [],
   "source": [
    "d = {k: v for k, v in sorted(d.items(), key=lambda item: item[1], reverse = True)}"
   ]
  },
  {
   "cell_type": "markdown",
   "metadata": {},
   "source": [
    "Sort a dictionary by its value: https://stackoverflow.com/questions/613183/how-do-i-sort-a-dictionary-by-value"
   ]
  },
  {
   "cell_type": "code",
   "execution_count": 126,
   "metadata": {},
   "outputs": [
    {
     "data": {
      "text/plain": [
       "[3, 2, 4, 5, 1, 6]"
      ]
     },
     "execution_count": 126,
     "metadata": {},
     "output_type": "execute_result"
    }
   ],
   "source": [
    "list({k: v for k, v in sorted(d.items(), key=lambda item: item[1], reverse = True)})"
   ]
  },
  {
   "cell_type": "code",
   "execution_count": 123,
   "metadata": {},
   "outputs": [
    {
     "data": {
      "text/plain": [
       "dict_items([(3, 3), (2, 2), (4, 2), (5, 2), (1, 1), (6, 1)])"
      ]
     },
     "execution_count": 123,
     "metadata": {},
     "output_type": "execute_result"
    }
   ],
   "source": [
    "d.items()"
   ]
  },
  {
   "cell_type": "code",
   "execution_count": 120,
   "metadata": {},
   "outputs": [
    {
     "ename": "AttributeError",
     "evalue": "'dict' object has no attribute 'iteritems'",
     "output_type": "error",
     "traceback": [
      "\u001b[1;31m---------------------------------------------------------------------------\u001b[0m",
      "\u001b[1;31mAttributeError\u001b[0m                            Traceback (most recent call last)",
      "\u001b[1;32m<ipython-input-120-7acad2c85b2d>\u001b[0m in \u001b[0;36m<module>\u001b[1;34m\u001b[0m\n\u001b[1;32m----> 1\u001b[1;33m \u001b[1;33m[\u001b[0m\u001b[1;33m(\u001b[0m\u001b[0mv\u001b[0m\u001b[1;33m,\u001b[0m \u001b[0mk\u001b[0m\u001b[1;33m)\u001b[0m \u001b[1;32mfor\u001b[0m \u001b[0mk\u001b[0m\u001b[1;33m,\u001b[0m \u001b[0mv\u001b[0m \u001b[1;32min\u001b[0m \u001b[0md\u001b[0m\u001b[1;33m.\u001b[0m\u001b[0miteritems\u001b[0m\u001b[1;33m(\u001b[0m\u001b[1;33m)\u001b[0m\u001b[1;33m]\u001b[0m\u001b[1;33m\u001b[0m\u001b[1;33m\u001b[0m\u001b[0m\n\u001b[0m",
      "\u001b[1;31mAttributeError\u001b[0m: 'dict' object has no attribute 'iteritems'"
     ]
    }
   ],
   "source": [
    "[(v, k) for k, v in d.iteritems()]"
   ]
  },
  {
   "cell_type": "code",
   "execution_count": 163,
   "metadata": {},
   "outputs": [
    {
     "name": "stdout",
     "output_type": "stream",
     "text": [
      "Hello World\n",
      "3\n",
      "M,i = [[1, 2, 3], [2, 3, 4, 5], [3, 4, 5, 6]] 0\n",
      "1 3\n",
      "2 3\n",
      "3 3\n",
      "M,i = [[2, 3, 4, 5], [3, 4, 5, 6]] 1\n",
      "3 3\n",
      "4 3\n",
      "5 3\n",
      "6 3\n"
     ]
    },
    {
     "data": {
      "text/plain": [
       "[[2, 3, 4, 5]]"
      ]
     },
     "execution_count": 163,
     "metadata": {},
     "output_type": "execute_result"
    }
   ],
   "source": [
    "from collections import namedtuple\n",
    "import collections\n",
    "from sys import stdin\n",
    "import numpy as np\n",
    "\n",
    "\n",
    "Segment = namedtuple('Segment', 'start end')\n",
    "\n",
    "s = ([Segment(1, 3), Segment(2, 5), Segment(3, 6)])\n",
    "\n",
    "d = {}\n",
    "\n",
    "def compute_optimal_points(segments):\n",
    "    \n",
    "    def l_dict(M):\n",
    "        for i,l in enumerate(M):\n",
    "#         print(i, l)\n",
    "            for j, num in enumerate(l):\n",
    "#                 print(j, num)\n",
    "                if num not in d:\n",
    "                    d[num] = 1\n",
    "                else:\n",
    "                    d[num] += 1\n",
    "        return {k: v for k, v in sorted(d.items(), key=lambda item: item[1], reverse = True)}\n",
    "        \n",
    "\n",
    "    \n",
    "    print(\"Hello World\")\n",
    "    \n",
    "    print(len(segments))\n",
    "#     M = [[]* len(segments)]\n",
    "    M = [[] for _ in range(0,len(segments))]\n",
    "#     print(M[0])\n",
    "    \n",
    "    \n",
    "\n",
    "\n",
    "    #e\n",
    "    for i, segment in enumerate(segments):\n",
    "        M[i] = [num for num in range(segment.start, segment.end+1)]\n",
    "\n",
    "#     return M\n",
    "    l_d = l_dict(M)\n",
    "    l_l = list(l_d)\n",
    "#     return l_dict(M)\n",
    "    \n",
    "    ############# with the sorted dictionary and list, read from it and use it to delete any list with the variable #####################\n",
    "    val = l_l[0]\n",
    "    \n",
    "    def drow(M,v):\n",
    "        for i, row in enumerate(M):\n",
    "            print(\"M,i = \" + str(M),i)\n",
    "            for num in row:\n",
    "                print(num,v)\n",
    "                if num == v:\n",
    "                    del M[i]\n",
    "                    \n",
    "        return M\n",
    "    \n",
    "    return drow(M,val)\n",
    "        \n",
    "        \n",
    "        \n",
    "    \n",
    "\n",
    "\n",
    "compute_optimal_points(s)\n",
    "\n"
   ]
  },
  {
   "cell_type": "code",
   "execution_count": 154,
   "metadata": {},
   "outputs": [
    {
     "name": "stdout",
     "output_type": "stream",
     "text": [
      "[Segment(start=1, end=3), Segment(start=2, end=5), Segment(start=3, end=6)]\n"
     ]
    }
   ],
   "source": [
    "print(s)"
   ]
  },
  {
   "cell_type": "code",
   "execution_count": 144,
   "metadata": {},
   "outputs": [
    {
     "name": "stdout",
     "output_type": "stream",
     "text": [
      "Segment(start=3, end=6)\n"
     ]
    }
   ],
   "source": [
    "print(segment)"
   ]
  },
  {
   "cell_type": "code",
   "execution_count": 145,
   "metadata": {},
   "outputs": [
    {
     "name": "stdout",
     "output_type": "stream",
     "text": [
      "[Segment(start=1, end=3), Segment(start=2, end=5), Segment(start=3, end=6)]\n"
     ]
    }
   ],
   "source": [
    "print(segments)"
   ]
  },
  {
   "cell_type": "code",
   "execution_count": 175,
   "metadata": {},
   "outputs": [
    {
     "name": "stdout",
     "output_type": "stream",
     "text": [
      "Hello World\n",
      "3\n",
      "3\n",
      "M,i = [[1, 2, 3], [2, 3, 4, 5], [3, 4, 5, 6]] 0\n",
      "1 3\n",
      "2 3\n",
      "3 3\n",
      "YA\n"
     ]
    },
    {
     "data": {
      "text/plain": [
       "[[1, 2, 3], [2, 3, 4, 5]]"
      ]
     },
     "execution_count": 175,
     "metadata": {},
     "output_type": "execute_result"
    }
   ],
   "source": [
    "from collections import namedtuple\n",
    "import collections\n",
    "from sys import stdin\n",
    "import numpy as np\n",
    "\n",
    "\n",
    "Segment = namedtuple('Segment', 'start end')\n",
    "\n",
    "s = ([Segment(1, 3), Segment(2, 5), Segment(3, 6)])\n",
    "\n",
    "d = {}\n",
    "\n",
    "def compute_optimal_points(segments):\n",
    "    \n",
    "    def l_dict(M):\n",
    "        for i,l in enumerate(M):\n",
    "#         print(i, l)\n",
    "            for j, num in enumerate(l):\n",
    "#                 print(j, num)\n",
    "                if num not in d:\n",
    "                    d[num] = 1\n",
    "                else:\n",
    "                    d[num] += 1\n",
    "        return {k: v for k, v in sorted(d.items(), key=lambda item: item[1], reverse = True)}\n",
    "        \n",
    "\n",
    "    \n",
    "    print(\"Hello World\")\n",
    "    \n",
    "    print(len(segments))\n",
    "#     M = [[]* len(segments)]\n",
    "    M = [[] for _ in range(0,len(segments))]\n",
    "#     print(M[0])\n",
    "    \n",
    "    \n",
    "\n",
    "\n",
    "    #e\n",
    "    for i, segment in enumerate(segments):\n",
    "        M[i] = [num for num in range(segment.start, segment.end+1)]\n",
    "\n",
    "#     return M\n",
    "    l_d = l_dict(M)\n",
    "    l_l = list(l_d)\n",
    "#     return l_dict(M)\n",
    "    \n",
    "    ############# with the sorted dictionary and list, read from it and use it to delete any list with the variable #####################\n",
    "    val = l_l[0]\n",
    "    \n",
    "    \n",
    "    \n",
    "    def drow(M,v):\n",
    "        i = 0\n",
    "        print(len(M))\n",
    "        while i < len(M):\n",
    "            print(\"M,i = \" + str(M),i)\n",
    "            for num in M[i]:\n",
    "                print(num,v)\n",
    "                if num == v:\n",
    "                    print(\"YA\")\n",
    "                    del M[i]\n",
    "                else:\n",
    "                    i+=1\n",
    "                    \n",
    "        return M\n",
    "    \n",
    "    return drow(M,val)\n",
    "        \n",
    "        \n",
    "        \n",
    "    \n",
    "\n",
    "\n",
    "compute_optimal_points(s)\n",
    "\n"
   ]
  },
  {
   "cell_type": "code",
   "execution_count": 182,
   "metadata": {},
   "outputs": [
    {
     "name": "stdout",
     "output_type": "stream",
     "text": [
      "Hello World\n",
      "3\n",
      "3\n",
      "M,i = [[1, 2, 3], [2, 3, 4, 5], [3, 4, 5, 6]] 0\n",
      "0 1 3\n",
      "0 2 3\n",
      "0 3 3\n",
      "YA\n",
      "M,i = [[2, 3, 4, 5], [3, 4, 5, 6]] 0\n",
      "0 2 3\n",
      "0 3 3\n",
      "YA\n",
      "-1 4 3\n",
      "-1 5 3\n",
      "M,i = [[3, 4, 5, 6]] 0\n",
      "0 3 3\n",
      "YA\n",
      "-1 4 3\n",
      "-1 5 3\n",
      "-1 6 3\n"
     ]
    },
    {
     "data": {
      "text/plain": [
       "True"
      ]
     },
     "execution_count": 182,
     "metadata": {},
     "output_type": "execute_result"
    }
   ],
   "source": [
    "from collections import namedtuple\n",
    "import collections\n",
    "from sys import stdin\n",
    "import numpy as np\n",
    "\n",
    "\n",
    "Segment = namedtuple('Segment', 'start end')\n",
    "\n",
    "s = ([Segment(1, 3), Segment(2, 5), Segment(3, 6)])\n",
    "\n",
    "d = {}\n",
    "\n",
    "def compute_optimal_points(segments):\n",
    "    \n",
    "    def l_dict(M):\n",
    "        for i,l in enumerate(M):\n",
    "#         print(i, l)\n",
    "            for j, num in enumerate(l):\n",
    "#                 print(j, num)\n",
    "                if num not in d:\n",
    "                    d[num] = 1\n",
    "                else:\n",
    "                    d[num] += 1\n",
    "        return {k: v for k, v in sorted(d.items(), key=lambda item: item[1], reverse = True)}\n",
    "        \n",
    "\n",
    "    \n",
    "    print(\"Hello World\")\n",
    "    \n",
    "    print(len(segments))\n",
    "#     M = [[]* len(segments)]\n",
    "    M = [[] for _ in range(0,len(segments))]\n",
    "#     print(M[0])\n",
    "    \n",
    "    \n",
    "\n",
    "\n",
    "    #e\n",
    "    for i, segment in enumerate(segments):\n",
    "        M[i] = [num for num in range(segment.start, segment.end+1)]\n",
    "\n",
    "#     return M\n",
    "    l_d = l_dict(M)\n",
    "    l_l = list(l_d)\n",
    "#     return l_dict(M)\n",
    "    \n",
    "    ############# with the sorted dictionary and list, read from it and use it to delete any list with the variable #####################\n",
    "    val = l_l[0]\n",
    "    \n",
    "    \n",
    "    \n",
    "    def drow(M,v):\n",
    "        i = 0\n",
    "        print(len(M))\n",
    "        while i < len(M):\n",
    "            print(\"M,i = \" + str(M),i)\n",
    "            for j, num in enumerate(M[i]):\n",
    "                print(i, num,v)\n",
    "                if num == v:\n",
    "                    print(\"YA\")\n",
    "                    del M[i]\n",
    "                    i-=1\n",
    "            i+=1\n",
    "                    \n",
    "        return M\n",
    "    \n",
    "    return drow(M,val) == []\n",
    "        \n",
    "        \n",
    "        \n",
    "    \n",
    "\n",
    "\n",
    "compute_optimal_points(s)\n",
    "\n"
   ]
  },
  {
   "cell_type": "code",
   "execution_count": 13,
   "metadata": {},
   "outputs": [
    {
     "name": "stdout",
     "output_type": "stream",
     "text": [
      "1\n",
      "3\n"
     ]
    }
   ],
   "source": [
    "from collections import namedtuple\n",
    "import collections\n",
    "from sys import stdin\n",
    "import numpy as np\n",
    "\n",
    "\n",
    "Segment = namedtuple('Segment', 'start end')\n",
    "\n",
    "s = ([Segment(1, 3), Segment(2, 5), Segment(3, 6)])\n",
    "\n",
    "d = {}\n",
    "\n",
    "def compute_optimal_points(segments):\n",
    "    \n",
    "    def l_dict(M):\n",
    "        for i,l in enumerate(M):\n",
    "#         print(i, l)\n",
    "            for j, num in enumerate(l):\n",
    "#                 print(j, num)\n",
    "                if num not in d:\n",
    "                    d[num] = 1\n",
    "                else:\n",
    "                    d[num] += 1\n",
    "        return {k: v for k, v in sorted(d.items(), key=lambda item: item[1], reverse = True)}\n",
    "        \n",
    "\n",
    "    \n",
    "#     print(\"Hello World\")\n",
    "    \n",
    "#     print(len(segments))\n",
    "#     M = [[]* len(segments)]\n",
    "    M = [[] for _ in range(0,len(segments))]\n",
    "#     print(M[0])\n",
    "    \n",
    "    \n",
    "\n",
    "\n",
    "    #e\n",
    "    for i, segment in enumerate(segments):\n",
    "        M[i] = [num for num in range(segment.start, segment.end+1)]\n",
    "\n",
    "#     return M\n",
    "    l_d = l_dict(M)\n",
    "    l_l = list(l_d)\n",
    "#     return l_dict(M)\n",
    "    \n",
    "    ############# with the sorted dictionary and list, read from it and use it to delete any list with the variable #####################\n",
    "    val = l_l[0]\n",
    "    \n",
    "    \n",
    "    \n",
    "    def drow(M,v, count = 0):\n",
    "        i = 0\n",
    "#         print(len(M))\n",
    "        while i < len(M):\n",
    "#             print(\"M,i = \" + str(M),i)\n",
    "            for j, num in enumerate(M[i]):\n",
    "#                 print(i, num,v)\n",
    "                if num == v:\n",
    "#                     print(\"YA\")\n",
    "                    del M[i]\n",
    "                    i-=1\n",
    "#                 count+=1\n",
    "            i+=1\n",
    "                    \n",
    "        return M, count\n",
    "    \n",
    "#     return drow(M,val) == []\n",
    "    k = 0\n",
    "    v = []\n",
    "    count = 0\n",
    "    while M != []:\n",
    "        l = list(l_dict(M))[0]\n",
    "        v.append(l)\n",
    "        M, count = drow(M,v[k],count)\n",
    "        k += 1\n",
    "    return v\n",
    "        \n",
    "        \n",
    "        \n",
    "        \n",
    "    \n",
    "\n",
    "\n",
    "compute_optimal_points(s)\n",
    "print(len(compute_optimal_points(s)))\n",
    "print(*compute_optimal_points(s))\n",
    "\n"
   ]
  },
  {
   "cell_type": "markdown",
   "metadata": {
    "pycharm": {
     "name": "#%% md \n"
    }
   },
   "source": [
    "Output\n",
    "Failed case #1/15: (Wrong answer)\n",
    "wrong output format: list index out of range\n",
    "Input:\n",
    "3\n",
    "1 3\n",
    "2 5\n",
    "3 6\n",
    "\n",
    "Your output:\n",
    "1\n",
    "\n",
    "Correct output:\n",
    "1\n",
    "3 \n",
    " (Time used: 1.34/5.00, memory used: 23314432/536870912.)\n",
    "\n"
   ]
  },
  {
   "cell_type": "code",
   "execution_count": null,
   "metadata": {},
   "outputs": [],
   "source": []
  }
 ],
 "metadata": {
  "kernelspec": {
   "display_name": "Python 3",
   "language": "python",
   "name": "python3"
  },
  "language_info": {
   "codemirror_mode": {
    "name": "ipython",
    "version": 3
   },
   "file_extension": ".py",
   "mimetype": "text/x-python",
   "name": "python",
   "nbconvert_exporter": "python",
   "pygments_lexer": "ipython3",
   "version": "3.7.4"
  },
  "pycharm": {
   "stem_cell": {
    "cell_type": "raw",
    "metadata": {
     "collapsed": false
    },
    "source": []
   }
  }
 },
 "nbformat": 4,
 "nbformat_minor": 1
}
