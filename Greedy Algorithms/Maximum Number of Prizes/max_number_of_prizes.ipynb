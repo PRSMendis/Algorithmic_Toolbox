{
 "cells": [
  {
   "cell_type": "markdown",
   "metadata": {},
   "source": [
    "You are organizing a competition for children and have n\n",
    "n\n",
    " candies to give as prizes. You would like to use these candies for top k\n",
    "k\n",
    "places in a competition with a restriction that a higher place gets a larger number of candies. To make as many children happy as possible, you need to find the largest value of k\n",
    "k\n",
    " for which it is possible.\n",
    "\n",
    "Input: An integer 1≤n≤109\n",
    "1\n",
    "≤\n",
    "n\n",
    "≤\n",
    "10\n",
    "9\n",
    ".\n",
    "\n",
    "Output: The maximum number k\n",
    "k\n",
    " such that n\n",
    "n\n",
    " can be represented as the sum of k\n",
    "k\n",
    " pairwise distinct positive integers and these integers (if there are many such representations, output any of them)."
   ]
  },
  {
   "cell_type": "code",
   "execution_count": 1,
   "metadata": {},
   "outputs": [
    {
     "name": "stdout",
     "output_type": "stream",
     "text": [
      "0 0\n",
      "1 1\n",
      "2 3\n",
      "3 6\n",
      "4 10\n",
      "5 15\n",
      "6 21\n",
      "7 28\n",
      "8 36\n",
      "9 45\n",
      "10 55\n",
      "11 66\n",
      "12 78\n",
      "13 91\n",
      "14 105\n",
      "15 120\n",
      "16 136\n",
      "17 153\n"
     ]
    }
   ],
   "source": [
    "s = 0\n",
    "for i in range(0,18):\n",
    "    s+=i\n",
    "    print(i, s)"
   ]
  },
  {
   "cell_type": "code",
   "execution_count": 2,
   "metadata": {},
   "outputs": [
    {
     "ename": "SyntaxError",
     "evalue": "unexpected EOF while parsing (<ipython-input-2-bc09e7aac545>, line 24)",
     "output_type": "error",
     "traceback": [
      "\u001b[1;36m  File \u001b[1;32m\"<ipython-input-2-bc09e7aac545>\"\u001b[1;36m, line \u001b[1;32m24\u001b[0m\n\u001b[1;33m    \u001b[0m\n\u001b[1;37m    ^\u001b[0m\n\u001b[1;31mSyntaxError\u001b[0m\u001b[1;31m:\u001b[0m unexpected EOF while parsing\n"
     ]
    }
   ],
   "source": [
    "def compute_optimal_summands(n):\n",
    "    assert 1 <= n <= 10 ** 9\n",
    "    summands = []\n",
    "    \n",
    "    \n",
    "    #greedy solution\n",
    "    #takes in number, check if the number input is greater than the previous number, if so coutn +=1\n",
    "    #else, return difference\n",
    "    \n",
    "    def counter(n):\n",
    "        s = 0\n",
    "        i = 1\n",
    "        while s + i <= n:\n",
    "            if s <=n:\n",
    "#             if s <=n and s+i+1 < n:\n",
    "                summands.append(i)\n",
    "                s += i\n",
    "                i += 1\n",
    "#             else:\n",
    "#                 summands.append(n-s)\n",
    "#         return i-1, summands[0:-1]\n",
    "        summands[-1] += n - sum(summands)\n",
    "        return len(summands), summands, sum(summands\n",
    "\n"
   ]
  },
  {
   "cell_type": "code",
   "execution_count": 3,
   "metadata": {},
   "outputs": [
    {
     "ename": "NameError",
     "evalue": "name 'compute_optimal_summands' is not defined",
     "output_type": "error",
     "traceback": [
      "\u001b[1;31m---------------------------------------------------------------------------\u001b[0m",
      "\u001b[1;31mNameError\u001b[0m                                 Traceback (most recent call last)",
      "\u001b[1;32m<ipython-input-3-25f47f70f410>\u001b[0m in \u001b[0;36m<module>\u001b[1;34m\u001b[0m\n\u001b[0;32m      1\u001b[0m \u001b[0mn\u001b[0m \u001b[1;33m=\u001b[0m \u001b[1;36m100\u001b[0m\u001b[1;33m\u001b[0m\u001b[1;33m\u001b[0m\u001b[0m\n\u001b[1;32m----> 2\u001b[1;33m \u001b[0mcompute_optimal_summands\u001b[0m\u001b[1;33m(\u001b[0m\u001b[0mn\u001b[0m\u001b[1;33m)\u001b[0m\u001b[1;33m\u001b[0m\u001b[1;33m\u001b[0m\u001b[0m\n\u001b[0m",
      "\u001b[1;31mNameError\u001b[0m: name 'compute_optimal_summands' is not defined"
     ]
    }
   ],
   "source": [
    "n = 100\n",
    "compute_optimal_summands(n)"
   ]
  },
  {
   "cell_type": "code",
   "execution_count": null,
   "metadata": {},
   "outputs": [],
   "source": []
  },
  {
   "cell_type": "code",
   "execution_count": null,
   "metadata": {},
   "outputs": [],
   "source": []
  },
  {
   "cell_type": "code",
   "execution_count": null,
   "metadata": {},
   "outputs": [],
   "source": []
  },
  {
   "cell_type": "code",
   "execution_count": null,
   "metadata": {},
   "outputs": [],
   "source": []
  },
  {
   "cell_type": "code",
   "execution_count": null,
   "metadata": {},
   "outputs": [],
   "source": []
  },
  {
   "cell_type": "code",
   "execution_count": null,
   "metadata": {},
   "outputs": [],
   "source": []
  },
  {
   "cell_type": "code",
   "execution_count": null,
   "metadata": {},
   "outputs": [],
   "source": []
  },
  {
   "cell_type": "code",
   "execution_count": 5,
   "metadata": {},
   "outputs": [
    {
     "ename": "SyntaxError",
     "evalue": "invalid syntax (<ipython-input-5-6019799cf80b>, line 3)",
     "output_type": "error",
     "traceback": [
      "\u001b[1;36m  File \u001b[1;32m\"<ipython-input-5-6019799cf80b>\"\u001b[1;36m, line \u001b[1;32m3\u001b[0m\n\u001b[1;33m    summands =\u001b[0m\n\u001b[1;37m               ^\u001b[0m\n\u001b[1;31mSyntaxError\u001b[0m\u001b[1;31m:\u001b[0m invalid syntax\n"
     ]
    }
   ],
   "source": [
    "def compute_optimal_summands(n):\n",
    "    assert 1 <= n <= 10 ** 9\n",
    "    summands = \n",
    "    \n",
    "    \n",
    "    #other solution\n",
    "    #if the sum of the array is greater less than n i+1 = i + 1 \n",
    "    \n",
    "    def counter(a)\n",
    "\n",
    "    pass\n",
    "\n",
    "    return summands\n"
   ]
  },
  {
   "cell_type": "code",
   "execution_count": 33,
   "metadata": {
    "pycharm": {
     "name": "#%%\n"
    }
   },
   "outputs": [],
   "source": [
    "def compute_optimal_summands(n):\n",
    "    print(\"yo\")\n",
    "    assert 1 <= n <= 10 ** 9\n",
    "    summands = []\n",
    "\n",
    "    # greedy solution\n",
    "    # takes in number, check if the number input is greater than the previous number, if so coutn +=1\n",
    "    # else, return difference\n",
    "\n",
    "    def counter(n):\n",
    "        s = 0\n",
    "        i = 1\n",
    "        while s + i <= n:\n",
    "            if s <= n:\n",
    "                #             if s <=n and s+i+1 < n:\n",
    "                summands.append(i)\n",
    "                s += i\n",
    "                i += 1\n",
    "        #             else:\n",
    "        #                 summands.append(n-s)\n",
    "        #         return i-1, summands[0:-1]\n",
    "        summands[-1] += n - sum(summands)\n",
    "        \n",
    "    print(counter(n))\n",
    "        \n",
    "        \n",
    "#     return len(summands), summands, sum(summands)\n",
    "    return len(summands), summands\n"
   ]
  },
  {
   "cell_type": "code",
   "execution_count": 34,
   "metadata": {},
   "outputs": [
    {
     "name": "stdout",
     "output_type": "stream",
     "text": [
      "yo\n",
      "None\n",
      "(2, [1, 4])\n"
     ]
    }
   ],
   "source": [
    "print(compute_optimal_summands(5))"
   ]
  },
  {
   "cell_type": "code",
   "execution_count": 35,
   "metadata": {},
   "outputs": [
    {
     "name": "stdout",
     "output_type": "stream",
     "text": [
      "yo\n",
      "None\n"
     ]
    },
    {
     "data": {
      "text/plain": [
       "(2, [1, 3])"
      ]
     },
     "execution_count": 35,
     "metadata": {},
     "output_type": "execute_result"
    }
   ],
   "source": [
    "compute_optimal_summands(4)"
   ]
  },
  {
   "cell_type": "code",
   "execution_count": null,
   "outputs": [],
   "source": [
    "def compute_optimal_summands(n):\n",
    "    assert 1 <= n <= 10 ** 9\n",
    "    summands = []\n",
    "\n",
    "    # greedy solution\n",
    "    # takes in number, check if the number input is greater than the previous number, if so coutn +=1\n",
    "    # else, return difference\n",
    "\n",
    "    def counter(n):\n",
    "        s = 0\n",
    "        i = 1\n",
    "        while s + i <= n:\n",
    "            if s <= n:\n",
    "                #             if s <=n and s+i+1 < n:\n",
    "                summands.append(i)\n",
    "                s += i\n",
    "                i += 1\n",
    "        #             else:\n",
    "        #                 summands.append(n-s)\n",
    "        #         return i-1, summands[0:-1]\n",
    "        summands[-1] += n - sum(summands)\n",
    "        return summands\n",
    "    \n",
    "        \n",
    "    counter(n)\n",
    "        \n",
    "        \n",
    "#     return len(summands), summands, sum(summands)\n",
    "    return len(summands), summands\n",
    "compute_optimal_summands(4)\n"
   ],
   "metadata": {
    "collapsed": false,
    "pycharm": {
     "name": "#%%\n"
    }
   }
  },
  {
   "cell_type": "code",
   "execution_count": 39,
   "metadata": {},
   "outputs": [
    {
     "data": {
      "text/plain": [
       "(2, [1, 3])"
      ]
     },
     "execution_count": 39,
     "metadata": {},
     "output_type": "execute_result"
    }
   ],
   "source": []
  },
  {
   "cell_type": "code",
   "execution_count": null,
   "metadata": {},
   "outputs": [],
   "source": []
  },
  {
   "cell_type": "code",
   "execution_count": null,
   "metadata": {},
   "outputs": [],
   "source": []
  }
 ],
 "metadata": {
  "kernelspec": {
   "display_name": "Python 3",
   "language": "python",
   "name": "python3"
  },
  "language_info": {
   "codemirror_mode": {
    "name": "ipython",
    "version": 3
   },
   "file_extension": ".py",
   "mimetype": "text/x-python",
   "name": "python",
   "nbconvert_exporter": "python",
   "pygments_lexer": "ipython3",
   "version": "3.7.4"
  },
  "pycharm": {
   "stem_cell": {
    "cell_type": "raw",
    "source": [],
    "metadata": {
     "collapsed": false
    }
   }
  }
 },
 "nbformat": 4,
 "nbformat_minor": 1
}